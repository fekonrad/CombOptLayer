{
  "nbformat": 4,
  "nbformat_minor": 0,
  "metadata": {
    "colab": {
      "provenance": [],
      "authorship_tag": "ABX9TyNsrAwnGo4LyntZdVygFnVe",
      "include_colab_link": true
    },
    "kernelspec": {
      "name": "python3",
      "display_name": "Python 3"
    },
    "language_info": {
      "name": "python"
    }
  },
  "cells": [
    {
      "cell_type": "markdown",
      "metadata": {
        "id": "view-in-github",
        "colab_type": "text"
      },
      "source": [
        "<a href=\"https://colab.research.google.com/github/fekonrad/CombOptLayer/blob/main/Demo/COptLayer_Warcraft_Demo.ipynb\" target=\"_parent\"><img src=\"https://colab.research.google.com/assets/colab-badge.svg\" alt=\"Open In Colab\"/></a>"
      ]
    },
    {
      "cell_type": "markdown",
      "source": [
        "This is a short demo on how to use the COptLayer for the toy problem of finding shortest paths on Warcraft maps. To illustrate what the maps, graphs and paths look like, see the plots below:"
      ],
      "metadata": {
        "id": "FFAgfvjAoIYD"
      }
    },
    {
      "cell_type": "code",
      "source": [
        "# TODO: Implement Warcraft Dataset"
      ],
      "metadata": {
        "id": "1a3OywNyqPOI"
      },
      "execution_count": null,
      "outputs": []
    },
    {
      "cell_type": "code",
      "execution_count": null,
      "metadata": {
        "id": "1TTGAnc1oEvj"
      },
      "outputs": [],
      "source": [
        "# TODO: Load and plot a sample map"
      ]
    },
    {
      "cell_type": "markdown",
      "source": [
        "# Using the COptLayer\n",
        "First, let's install the COptLayer repository:"
      ],
      "metadata": {
        "id": "VncOI7_MobSJ"
      }
    },
    {
      "cell_type": "code",
      "source": [
        "# TODO: Clone repo"
      ],
      "metadata": {
        "id": "8UzGr0dUojQd"
      },
      "execution_count": null,
      "outputs": []
    },
    {
      "cell_type": "markdown",
      "source": [
        "We implement a very basic CNN to estimate the vertex costs of the map. Since this problem is not very complex, a small model will suffice."
      ],
      "metadata": {
        "id": "_-PRcUyuo3oN"
      }
    },
    {
      "cell_type": "code",
      "source": [
        "# TODO: Add implementation of CNN"
      ],
      "metadata": {
        "id": "fvN6s7omo4kN"
      },
      "execution_count": null,
      "outputs": []
    },
    {
      "cell_type": "markdown",
      "source": [
        "Now we just have to implement our solver for finding shortest paths (given vertex weights) on 2D grids, where  the possible moves at each point are up, down, left, right and diagonal.\n",
        "\n",
        "We have to make sure that the input of our solver is compatible with what our statistical model (the CNN) returns as outputs, i.e. in this case a `torch.tensor` of shape `(b, 1, h, w)`.\n",
        "\n",
        "**Remark:**\n",
        "The COptLayer will have to solve multiple instances of the combinatorial problem at once. Therefore it is clever to try to implement the solver using parallelizable operations, instead of trying to solve the problems sequentially. This means either sticking to what `torch` already has implemented or writing your own parallelized methods e.g. using CUDA."
      ],
      "metadata": {
        "id": "EQiIpKtjolR5"
      }
    },
    {
      "cell_type": "code",
      "source": [
        "# TODO: Implement Solver"
      ],
      "metadata": {
        "id": "ToS0IRAyoy4k"
      },
      "execution_count": null,
      "outputs": []
    },
    {
      "cell_type": "markdown",
      "source": [
        "Now we have everything we need to build the model!"
      ],
      "metadata": {
        "id": "Nvdwy9vSp8Rx"
      }
    },
    {
      "cell_type": "code",
      "source": [
        "# TODO: Build full model"
      ],
      "metadata": {
        "id": "mncNwB1EqBzC"
      },
      "execution_count": null,
      "outputs": []
    },
    {
      "cell_type": "markdown",
      "source": [
        "The training routine now works like any other training routine in torch!"
      ],
      "metadata": {
        "id": "mAF093WSqFNc"
      }
    },
    {
      "cell_type": "code",
      "source": [
        "# TODO: Implement training routine and monitor sample map."
      ],
      "metadata": {
        "id": "qaYDNHfoqTU_"
      },
      "execution_count": null,
      "outputs": []
    },
    {
      "cell_type": "markdown",
      "source": [
        "# Results\n",
        "..."
      ],
      "metadata": {
        "id": "qztXoLcRqZiA"
      }
    }
  ]
}